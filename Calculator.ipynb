{
  "nbformat": 4,
  "nbformat_minor": 0,
  "metadata": {
    "colab": {
      "provenance": []
    },
    "kernelspec": {
      "name": "python3",
      "display_name": "Python 3"
    },
    "language_info": {
      "name": "python"
    },
    "accelerator": "TPU"
  },
  "cells": [
    {
      "cell_type": "code",
      "source": [
        "def calculator():\n",
        "    num1 = None\n",
        "    while num1 is None:\n",
        "        try:\n",
        "            num1 = float(input(\"What's the first number?: \"))\n",
        "        except ValueError:\n",
        "            print(\"Invalid input. Please enter a number.\")\n",
        "\n",
        "    for sign, func in operations.items():\n",
        "        print(sign)\n",
        "\n",
        "    should_continue = True\n",
        "\n",
        "    while should_continue:\n",
        "        operation_symbol = input(\"Pick an operation from the line above: \")\n",
        "        if operation_symbol not in operations:\n",
        "            print(\"Invalid operation. Please pick an operation from the line above.\")\n",
        "            continue\n",
        "\n",
        "        num2 = None\n",
        "        while num2 is None:\n",
        "            try:\n",
        "                num2 = float(input(\"What's the second number?: \"))\n",
        "            except ValueError:\n",
        "                print(\"Invalid input. Please enter a number.\")\n",
        "\n",
        "        calculation_function = operations[operation_symbol]\n",
        "        answer = calculation_function(num1, num2)\n",
        "        print(f\"{num1} {operation_symbol} {num2} = {answer}\")\n",
        "\n",
        "        if input(f\"type 'y' to continue calculating with {answer}, or type 'n' to exit: \" ).lower() == \"y\":\n",
        "            num1 = answer\n",
        "        else:\n",
        "            should_continue = False\n",
        "\n",
        "calculator()\n",
        "\n"
      ],
      "metadata": {
        "colab": {
          "base_uri": "https://localhost:8080/"
        },
        "id": "EmKr5HlTLZ8m",
        "outputId": "b1764c83-c85a-4f04-b14b-a7aaa59a171c"
      },
      "execution_count": 5,
      "outputs": [
        {
          "name": "stdout",
          "output_type": "stream",
          "text": [
            "What's the first number?: h\n",
            "Invalid input. Please enter a number.\n",
            "What's the first number?: 2\n",
            "+\n",
            "-\n",
            "*\n",
            "/\n",
            "Pick an operation from the line above: k\n",
            "Invalid operation. Please pick an operation from the line above.\n",
            "Pick an operation from the line above: +\n",
            "What's the second number?: 5\n",
            "2.0 + 5.0 = 7.0\n",
            "type 'y' to continue calculating with 7.0, or type 'n' to exit: y\n",
            "Pick an operation from the line above: *\n",
            "What's the second number?: 1.5\n",
            "7.0 * 1.5 = 10.5\n",
            "type 'y' to continue calculating with 10.5, or type 'n' to exit: y\n",
            "Pick an operation from the line above: /\n",
            "What's the second number?: 1.5\n",
            "10.5 / 1.5 = 7.0\n",
            "type 'y' to continue calculating with 7.0, or type 'n' to exit: y\n",
            "Pick an operation from the line above: -\n",
            "What's the second number?: 3.2\n",
            "7.0 - 3.2 = 3.8\n",
            "type 'y' to continue calculating with 3.8, or type 'n' to exit: n\n"
          ]
        }
      ]
    }
  ]
}