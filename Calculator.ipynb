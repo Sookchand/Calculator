{
  "nbformat": 4,
  "nbformat_minor": 0,
  "metadata": {
    "colab": {
      "provenance": []
    },
    "kernelspec": {
      "name": "python3",
      "display_name": "Python 3"
    },
    "language_info": {
      "name": "python"
    },
    "accelerator": "TPU"
  },
  "cells": [
    {
      "cell_type": "code",
      "source": [
        "from google.colab import drive\n",
        "drive.mount('/content/drive')\n",
        "import sys\n",
        "sys.path.append('/content/drive/MyDrive')"
      ],
      "metadata": {
        "colab": {
          "base_uri": "https://localhost:8080/"
        },
        "id": "d5WzoQtmRwHo",
        "outputId": "80aba233-3e8d-49d3-b8e4-a2de582600ba"
      },
      "execution_count": 2,
      "outputs": [
        {
          "output_type": "stream",
          "name": "stdout",
          "text": [
            "Mounted at /content/drive\n"
          ]
        }
      ]
    },
    {
      "cell_type": "code",
      "source": [
        "from cal import logo"
      ],
      "metadata": {
        "id": "JH8QgWmrSLJ5"
      },
      "execution_count": 3,
      "outputs": []
    },
    {
      "cell_type": "code",
      "source": [
        "def add(n1, n2):\n",
        "  return n1 + n2\n",
        "\n",
        "def subtract(n1, n2):\n",
        "  return n1 - n2\n",
        "\n",
        "def multiply(n1, n2):\n",
        "  return n1 * n2\n",
        "\n",
        "def divide(n1, n2):\n",
        "  return n1 / n2\n",
        "\n",
        "operations = {\n",
        "  \"+\": add,\n",
        "  \"-\": subtract,\n",
        "  \"*\": multiply,\n",
        "  \"/\": divide\n",
        "}\n",
        "\n",
        "def calculator():\n",
        "    print(logo)\n",
        "    num1 = None\n",
        "    while num1 is None:\n",
        "        try:\n",
        "            num1 = float(input(\"What's the first number?: \"))\n",
        "        except ValueError:\n",
        "            print(\"Invalid input. Please enter a number.\")\n",
        "\n",
        "    for sign, func in operations.items():\n",
        "        print(sign)\n",
        "\n",
        "    should_continue = True\n",
        "\n",
        "    while should_continue:\n",
        "        operation_symbol = input(\"Pick an operation from the line above: \")\n",
        "        if operation_symbol not in operations:\n",
        "            print(\"Invalid operation. Please pick an operation from the line above.\")\n",
        "            continue\n",
        "\n",
        "        num2 = None\n",
        "        while num2 is None:\n",
        "            try:\n",
        "                num2 = float(input(\"What's the second number?: \"))\n",
        "            except ValueError:\n",
        "                print(\"Invalid input. Please enter a number.\")\n",
        "\n",
        "        calculation_function = operations[operation_symbol]\n",
        "        answer = calculation_function(num1, num2)\n",
        "        print(f\"{num1} {operation_symbol} {num2} = {answer}\")\n",
        "\n",
        "        if input(f\"type 'y' to continue calculating with {answer}, or type 'n' to exit: \" ).lower() == \"y\":\n",
        "            num1 = answer\n",
        "        else:\n",
        "            should_continue = False\n",
        "\n",
        "calculator()\n",
        "\n"
      ],
      "metadata": {
        "colab": {
          "base_uri": "https://localhost:8080/"
        },
        "id": "EmKr5HlTLZ8m",
        "outputId": "913dfc01-fc7c-47fa-f310-bd9fee12a5a2"
      },
      "execution_count": 5,
      "outputs": [
        {
          "name": "stdout",
          "output_type": "stream",
          "text": [
            "\n",
            " _____________________\n",
            "|  _________________  |\n",
            "| | Pythonista   0. | |  .----------------.  .----------------.  .----------------.  .----------------. \n",
            "| |_________________| | | .--------------. || .--------------. || .--------------. || .--------------. |\n",
            "|  ___ ___ ___   ___  | | |     ______   | || |      __      | || |   _____      | || |     ______   | |\n",
            "| | 7 | 8 | 9 | | + | | | |   .' ___  |  | || |     /  \\     | || |  |_   _|     | || |   .' ___  |  | |\n",
            "| |___|___|___| |___| | | |  / .'   \\_|  | || |    / /\\ \\    | || |    | |       | || |  / .'   \\_|  | |\n",
            "| | 4 | 5 | 6 | | - | | | |  | |         | || |   / ____ \\   | || |    | |   _   | || |  | |         | |\n",
            "| |___|___|___| |___| | | |  \\ `.___.'\\  | || | _/ /    \\ \\_ | || |   _| |__/ |  | || |  \\ `.___.'\\  | |\n",
            "| | 1 | 2 | 3 | | x | | | |   `._____.'  | || ||____|  |____|| || |  |________|  | || |   `._____.'  | |\n",
            "| |___|___|___| |___| | | |              | || |              | || |              | || |              | |\n",
            "| | . | 0 | = | | / | | | '--------------' || '--------------' || '--------------' || '--------------' |\n",
            "| |___|___|___| |___| |  '----------------'  '----------------'  '----------------'  '----------------' \n",
            "|_____________________|\n",
            "\n",
            "What's the first number?: 2.5\n",
            "+\n",
            "-\n",
            "*\n",
            "/\n",
            "Pick an operation from the line above: +\n",
            "What's the second number?: 2.5\n",
            "2.5 + 2.5 = 5.0\n",
            "type 'y' to continue calculating with 5.0, or type 'n' to exit: y\n",
            "Pick an operation from the line above: *\n",
            "What's the second number?: 2\n",
            "5.0 * 2.0 = 10.0\n",
            "type 'y' to continue calculating with 10.0, or type 'n' to exit: n\n"
          ]
        }
      ]
    }
  ]
}